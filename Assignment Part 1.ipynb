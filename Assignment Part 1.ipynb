{
    "cells": [
        {
            "cell_type": "markdown",
            "metadata": {
                "collapsed": true
            },
            "source": "## Applied Data Science Capstone Assignment 2 :Segmenting and Clustering Neighborhoods in Toronto - Part 1"
        },
        {
            "cell_type": "markdown",
            "metadata": {},
            "source": "For this assignment, you will be required to explore and cluster the neighborhoods in Toronto.\n1.Start by creating a new Notebook for this assignment.\n2.Use the Notebook to build the code to scrape the following Wikipedia page, https://en.wikipedia.org/wiki/List_of_postal_codes_of_Canada:_M, in order to obtain the data that is in the table of postal codes and to transform the data into a pandas dataframe like the one shown below:"
        },
        {
            "cell_type": "code",
            "execution_count": 2,
            "metadata": {},
            "outputs": [],
            "source": "# Import libraries\nimport requests\nimport lxml.html as lh\nimport pandas as pd"
        },
        {
            "cell_type": "code",
            "execution_count": 3,
            "metadata": {},
            "outputs": [
                {
                    "data": {
                        "text/plain": "[3, 3, 3, 3, 3, 3, 3, 3, 3, 3, 3, 3]"
                    },
                    "execution_count": 3,
                    "metadata": {},
                    "output_type": "execute_result"
                }
            ],
            "source": "url='https://en.wikipedia.org/wiki/List_of_postal_codes_of_Canada:_M'\npage = requests.get(url)\ndoc = lh.fromstring(page.content)\ntr_elements = doc.xpath('//tr')\n#Check the length of the first 12 rows\n[len(T) for T in tr_elements[:12]]"
        },
        {
            "cell_type": "markdown",
            "metadata": {},
            "source": ""
        },
        {
            "cell_type": "code",
            "execution_count": 4,
            "metadata": {},
            "outputs": [
                {
                    "name": "stdout",
                    "output_type": "stream",
                    "text": "1:\"Postcode\"\n2:\"Borough\"\n3:\"Neighbourhood\n\"\n"
                }
            ],
            "source": "# Parse the first row as our header\ntr_elements = doc.xpath('//tr')\n\n#Create empty list\ncol=[]\ni=0\n\n#For each row, store each first element (header) and an empty list\nfor t in tr_elements[0]:\n    i+=1\n    name=t.text_content()\n    print ('%d:\"%s\"'%(i,name))\n    col.append((name,[]))"
        },
        {
            "cell_type": "code",
            "execution_count": 5,
            "metadata": {},
            "outputs": [],
            "source": "for j in range(1,len(tr_elements)):\n    T=tr_elements[j]\n    if len(T)!=3:\n        break\n    i=0 \n    for t in T.iterchildren():\n        data=t.text_content() \n        if i>0:\n            try:\n                data=int(data)\n            except:\n                pass\n        col[i][1].append(data)\n        i+=1"
        },
        {
            "cell_type": "markdown",
            "metadata": {},
            "source": "Get the length of the column"
        },
        {
            "cell_type": "code",
            "execution_count": 6,
            "metadata": {},
            "outputs": [
                {
                    "data": {
                        "text/plain": "[288, 288, 288]"
                    },
                    "execution_count": 6,
                    "metadata": {},
                    "output_type": "execute_result"
                }
            ],
            "source": "[len(C) for (title,C) in col]"
        },
        {
            "cell_type": "code",
            "execution_count": 7,
            "metadata": {},
            "outputs": [],
            "source": "Dict={title:column for (title,column) in col}\ndf=pd.DataFrame(Dict)"
        },
        {
            "cell_type": "markdown",
            "metadata": {},
            "source": "Get 5 rows of the data frame"
        },
        {
            "cell_type": "code",
            "execution_count": 8,
            "metadata": {
                "scrolled": true
            },
            "outputs": [
                {
                    "data": {
                        "text/html": "<div>\n<style scoped>\n    .dataframe tbody tr th:only-of-type {\n        vertical-align: middle;\n    }\n\n    .dataframe tbody tr th {\n        vertical-align: top;\n    }\n\n    .dataframe thead th {\n        text-align: right;\n    }\n</style>\n<table border=\"1\" class=\"dataframe\">\n  <thead>\n    <tr style=\"text-align: right;\">\n      <th></th>\n      <th>Postcode</th>\n      <th>Borough</th>\n      <th>Neighbourhood</th>\n    </tr>\n  </thead>\n  <tbody>\n    <tr>\n      <th>0</th>\n      <td>M1A</td>\n      <td>Not assigned</td>\n      <td>Not assigned\\n</td>\n    </tr>\n    <tr>\n      <th>1</th>\n      <td>M2A</td>\n      <td>Not assigned</td>\n      <td>Not assigned\\n</td>\n    </tr>\n    <tr>\n      <th>2</th>\n      <td>M3A</td>\n      <td>North York</td>\n      <td>Parkwoods\\n</td>\n    </tr>\n    <tr>\n      <th>3</th>\n      <td>M4A</td>\n      <td>North York</td>\n      <td>Victoria Village\\n</td>\n    </tr>\n    <tr>\n      <th>4</th>\n      <td>M5A</td>\n      <td>Downtown Toronto</td>\n      <td>Harbourfront\\n</td>\n    </tr>\n  </tbody>\n</table>\n</div>",
                        "text/plain": "  Postcode           Borough     Neighbourhood\\n\n0      M1A      Not assigned      Not assigned\\n\n1      M2A      Not assigned      Not assigned\\n\n2      M3A        North York         Parkwoods\\n\n3      M4A        North York  Victoria Village\\n\n4      M5A  Downtown Toronto      Harbourfront\\n"
                    },
                    "execution_count": 8,
                    "metadata": {},
                    "output_type": "execute_result"
                }
            ],
            "source": " df.head()"
        },
        {
            "cell_type": "markdown",
            "metadata": {},
            "source": "Rearranging and renaming column names"
        },
        {
            "cell_type": "code",
            "execution_count": 9,
            "metadata": {},
            "outputs": [
                {
                    "data": {
                        "text/html": "<div>\n<style scoped>\n    .dataframe tbody tr th:only-of-type {\n        vertical-align: middle;\n    }\n\n    .dataframe tbody tr th {\n        vertical-align: top;\n    }\n\n    .dataframe thead th {\n        text-align: right;\n    }\n</style>\n<table border=\"1\" class=\"dataframe\">\n  <thead>\n    <tr style=\"text-align: right;\">\n      <th></th>\n      <th>Postcode</th>\n      <th>Borough</th>\n      <th>Neighbourhood</th>\n    </tr>\n  </thead>\n  <tbody>\n    <tr>\n      <th>0</th>\n      <td>Not assigned\\n</td>\n      <td>M1A</td>\n      <td>Not assigned</td>\n    </tr>\n    <tr>\n      <th>1</th>\n      <td>Not assigned\\n</td>\n      <td>M2A</td>\n      <td>Not assigned</td>\n    </tr>\n    <tr>\n      <th>2</th>\n      <td>Parkwoods\\n</td>\n      <td>M3A</td>\n      <td>North York</td>\n    </tr>\n    <tr>\n      <th>3</th>\n      <td>Victoria Village\\n</td>\n      <td>M4A</td>\n      <td>North York</td>\n    </tr>\n    <tr>\n      <th>4</th>\n      <td>Harbourfront\\n</td>\n      <td>M5A</td>\n      <td>Downtown Toronto</td>\n    </tr>\n  </tbody>\n</table>\n</div>",
                        "text/plain": "             Postcode Borough     Neighbourhood\n0      Not assigned\\n     M1A      Not assigned\n1      Not assigned\\n     M2A      Not assigned\n2         Parkwoods\\n     M3A        North York\n3  Victoria Village\\n     M4A        North York\n4      Harbourfront\\n     M5A  Downtown Toronto"
                    },
                    "execution_count": 9,
                    "metadata": {},
                    "output_type": "execute_result"
                }
            ],
            "source": "df.columns = ['Borough', 'Neighbourhood','Postcode']\ncols = df.columns.tolist()\ncols\ncols = cols[-1:] + cols[:-1]\ndf = df[cols]\ndf.head()"
        },
        {
            "cell_type": "markdown",
            "metadata": {},
            "source": "Data Cleaning"
        },
        {
            "cell_type": "code",
            "execution_count": 10,
            "metadata": {},
            "outputs": [
                {
                    "data": {
                        "text/html": "<div>\n<style scoped>\n    .dataframe tbody tr th:only-of-type {\n        vertical-align: middle;\n    }\n\n    .dataframe tbody tr th {\n        vertical-align: top;\n    }\n\n    .dataframe thead th {\n        text-align: right;\n    }\n</style>\n<table border=\"1\" class=\"dataframe\">\n  <thead>\n    <tr style=\"text-align: right;\">\n      <th></th>\n      <th>Postcode</th>\n      <th>Borough</th>\n      <th>Neighbourhood</th>\n    </tr>\n  </thead>\n  <tbody>\n    <tr>\n      <th>0</th>\n      <td>Not assigned</td>\n      <td>M1A</td>\n      <td>Not assigned</td>\n    </tr>\n    <tr>\n      <th>1</th>\n      <td>Not assigned</td>\n      <td>M2A</td>\n      <td>Not assigned</td>\n    </tr>\n    <tr>\n      <th>2</th>\n      <td>Parkwoods</td>\n      <td>M3A</td>\n      <td>North York</td>\n    </tr>\n    <tr>\n      <th>3</th>\n      <td>Victoria Village</td>\n      <td>M4A</td>\n      <td>North York</td>\n    </tr>\n    <tr>\n      <th>4</th>\n      <td>Harbourfront</td>\n      <td>M5A</td>\n      <td>Downtown Toronto</td>\n    </tr>\n  </tbody>\n</table>\n</div>",
                        "text/plain": "            Postcode Borough     Neighbourhood\n0      Not assigned      M1A      Not assigned\n1      Not assigned      M2A      Not assigned\n2         Parkwoods      M3A        North York\n3  Victoria Village      M4A        North York\n4      Harbourfront      M5A  Downtown Toronto"
                    },
                    "execution_count": 10,
                    "metadata": {},
                    "output_type": "execute_result"
                }
            ],
            "source": "df = df.replace('\\n',' ', regex=True)\ndf.head()"
        },
        {
            "cell_type": "markdown",
            "metadata": {},
            "source": "Dropping all records that are Unassigned"
        },
        {
            "cell_type": "code",
            "execution_count": 11,
            "metadata": {},
            "outputs": [
                {
                    "data": {
                        "text/html": "<div>\n<style scoped>\n    .dataframe tbody tr th:only-of-type {\n        vertical-align: middle;\n    }\n\n    .dataframe tbody tr th {\n        vertical-align: top;\n    }\n\n    .dataframe thead th {\n        text-align: right;\n    }\n</style>\n<table border=\"1\" class=\"dataframe\">\n  <thead>\n    <tr style=\"text-align: right;\">\n      <th></th>\n      <th>Postcode</th>\n      <th>Borough</th>\n      <th>Neighbourhood</th>\n    </tr>\n  </thead>\n  <tbody>\n    <tr>\n      <th>0</th>\n      <td>Not assigned</td>\n      <td>M1A</td>\n      <td>Not assigned</td>\n    </tr>\n    <tr>\n      <th>1</th>\n      <td>Not assigned</td>\n      <td>M2A</td>\n      <td>Not assigned</td>\n    </tr>\n    <tr>\n      <th>2</th>\n      <td>Parkwoods</td>\n      <td>M3A</td>\n      <td>North York</td>\n    </tr>\n    <tr>\n      <th>3</th>\n      <td>Victoria Village</td>\n      <td>M4A</td>\n      <td>North York</td>\n    </tr>\n    <tr>\n      <th>4</th>\n      <td>Harbourfront</td>\n      <td>M5A</td>\n      <td>Downtown Toronto</td>\n    </tr>\n    <tr>\n      <th>5</th>\n      <td>Regent Park</td>\n      <td>M5A</td>\n      <td>Downtown Toronto</td>\n    </tr>\n    <tr>\n      <th>6</th>\n      <td>Lawrence Heights</td>\n      <td>M6A</td>\n      <td>North York</td>\n    </tr>\n    <tr>\n      <th>7</th>\n      <td>Lawrence Manor</td>\n      <td>M6A</td>\n      <td>North York</td>\n    </tr>\n    <tr>\n      <th>8</th>\n      <td>Not assigned</td>\n      <td>M7A</td>\n      <td>Queen's Park</td>\n    </tr>\n    <tr>\n      <th>9</th>\n      <td>Not assigned</td>\n      <td>M8A</td>\n      <td>Not assigned</td>\n    </tr>\n  </tbody>\n</table>\n</div>",
                        "text/plain": "            Postcode Borough     Neighbourhood\n0      Not assigned      M1A      Not assigned\n1      Not assigned      M2A      Not assigned\n2         Parkwoods      M3A        North York\n3  Victoria Village      M4A        North York\n4      Harbourfront      M5A  Downtown Toronto\n5       Regent Park      M5A  Downtown Toronto\n6  Lawrence Heights      M6A        North York\n7    Lawrence Manor      M6A        North York\n8      Not assigned      M7A      Queen's Park\n9      Not assigned      M8A      Not assigned"
                    },
                    "execution_count": 11,
                    "metadata": {},
                    "output_type": "execute_result"
                }
            ],
            "source": "df.drop(df.index[df['Borough'] == 'Not assigned'], inplace = True)\n# Reset the index and dropping the previous index\ndf = df.reset_index(drop=True)\ndf.head(10)"
        },
        {
            "cell_type": "code",
            "execution_count": 12,
            "metadata": {},
            "outputs": [
                {
                    "data": {
                        "text/html": "<div>\n<style scoped>\n    .dataframe tbody tr th:only-of-type {\n        vertical-align: middle;\n    }\n\n    .dataframe tbody tr th {\n        vertical-align: top;\n    }\n\n    .dataframe thead th {\n        text-align: right;\n    }\n</style>\n<table border=\"1\" class=\"dataframe\">\n  <thead>\n    <tr style=\"text-align: right;\">\n      <th></th>\n      <th>Postcode</th>\n      <th>Borough</th>\n      <th>Neighbourhood</th>\n    </tr>\n  </thead>\n  <tbody>\n    <tr>\n      <th>0</th>\n      <td>Adelaide</td>\n      <td>M5H</td>\n      <td>Downtown Toronto</td>\n    </tr>\n    <tr>\n      <th>1</th>\n      <td>Agincourt</td>\n      <td>M1S</td>\n      <td>Scarborough</td>\n    </tr>\n    <tr>\n      <th>2</th>\n      <td>Agincourt North</td>\n      <td>M1V</td>\n      <td>Scarborough</td>\n    </tr>\n    <tr>\n      <th>3</th>\n      <td>Albion Gardens</td>\n      <td>M9V</td>\n      <td>Etobicoke</td>\n    </tr>\n    <tr>\n      <th>4</th>\n      <td>Alderwood</td>\n      <td>M8W</td>\n      <td>Etobicoke</td>\n    </tr>\n    <tr>\n      <th>5</th>\n      <td>Bathurst Manor</td>\n      <td>M3H</td>\n      <td>North York</td>\n    </tr>\n    <tr>\n      <th>6</th>\n      <td>Bathurst Quay</td>\n      <td>M5V</td>\n      <td>Downtown Toronto</td>\n    </tr>\n    <tr>\n      <th>7</th>\n      <td>Bayview Village</td>\n      <td>M2K</td>\n      <td>North York</td>\n    </tr>\n    <tr>\n      <th>8</th>\n      <td>Beaumond Heights</td>\n      <td>M9V</td>\n      <td>Etobicoke</td>\n    </tr>\n    <tr>\n      <th>9</th>\n      <td>Bedford Park</td>\n      <td>M5M</td>\n      <td>North York</td>\n    </tr>\n  </tbody>\n</table>\n</div>",
                        "text/plain": "            Postcode Borough     Neighbourhood\n0          Adelaide      M5H  Downtown Toronto\n1         Agincourt      M1S       Scarborough\n2   Agincourt North      M1V       Scarborough\n3    Albion Gardens      M9V         Etobicoke\n4         Alderwood      M8W         Etobicoke\n5    Bathurst Manor      M3H        North York\n6     Bathurst Quay      M5V  Downtown Toronto\n7   Bayview Village      M2K        North York\n8  Beaumond Heights      M9V         Etobicoke\n9      Bedford Park      M5M        North York"
                    },
                    "execution_count": 12,
                    "metadata": {},
                    "output_type": "execute_result"
                }
            ],
            "source": "df = df.groupby(['Postcode', 'Borough'])['Neighbourhood'].apply(','.join).reset_index()\ndf.columns = ['Postcode','Borough','Neighbourhood']\ndf.head(10)"
        },
        {
            "cell_type": "code",
            "execution_count": 16,
            "metadata": {},
            "outputs": [],
            "source": "df['Neighbourhood'] = df['Neighbourhood'].str.strip()"
        },
        {
            "cell_type": "code",
            "execution_count": 17,
            "metadata": {},
            "outputs": [],
            "source": "df.loc[df['Neighbourhood'] == 'Not assigned', 'Neighbourhood'] = df['Borough']"
        },
        {
            "cell_type": "code",
            "execution_count": 13,
            "metadata": {},
            "outputs": [
                {
                    "data": {
                        "text/html": "<div>\n<style scoped>\n    .dataframe tbody tr th:only-of-type {\n        vertical-align: middle;\n    }\n\n    .dataframe tbody tr th {\n        vertical-align: top;\n    }\n\n    .dataframe thead th {\n        text-align: right;\n    }\n</style>\n<table border=\"1\" class=\"dataframe\">\n  <thead>\n    <tr style=\"text-align: right;\">\n      <th></th>\n      <th>Postcode</th>\n      <th>Borough</th>\n      <th>Neighbourhood</th>\n    </tr>\n  </thead>\n  <tbody>\n  </tbody>\n</table>\n</div>",
                        "text/plain": "Empty DataFrame\nColumns: [Postcode, Borough, Neighbourhood]\nIndex: []"
                    },
                    "execution_count": 13,
                    "metadata": {},
                    "output_type": "execute_result"
                }
            ],
            "source": "# Check if the Neighbourhood for Queen's Park changed \ndf[df['Borough'] == 'Queen\\'s Park']"
        },
        {
            "cell_type": "code",
            "execution_count": 14,
            "metadata": {},
            "outputs": [
                {
                    "data": {
                        "text/plain": "(288, 3)"
                    },
                    "execution_count": 14,
                    "metadata": {},
                    "output_type": "execute_result"
                }
            ],
            "source": "# Check the shape of the data frame\ndf.shape"
        },
        {
            "cell_type": "code",
            "execution_count": 18,
            "metadata": {},
            "outputs": [],
            "source": "import urllib.request as request\nr = request.urlopen('https://github.com/mulaedzam/Coursera_Capstone')"
        },
        {
            "cell_type": "code",
            "execution_count": 19,
            "metadata": {},
            "outputs": [],
            "source": "df.to_csv(r'df_can.csv')"
        },
        {
            "cell_type": "code",
            "execution_count": null,
            "metadata": {},
            "outputs": [],
            "source": ""
        }
    ],
    "metadata": {
        "kernelspec": {
            "display_name": "Python 3.6",
            "language": "python",
            "name": "python3"
        },
        "language_info": {
            "codemirror_mode": {
                "name": "ipython",
                "version": 3
            },
            "file_extension": ".py",
            "mimetype": "text/x-python",
            "name": "python",
            "nbconvert_exporter": "python",
            "pygments_lexer": "ipython3",
            "version": "3.6.8"
        }
    },
    "nbformat": 4,
    "nbformat_minor": 1
}